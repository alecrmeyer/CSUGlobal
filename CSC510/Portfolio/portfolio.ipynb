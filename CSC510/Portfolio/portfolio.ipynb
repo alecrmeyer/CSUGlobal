{
 "cells": [
  {
   "cell_type": "code",
   "execution_count": 294,
   "metadata": {},
   "outputs": [],
   "source": [
    "import numpy as np\n",
    "import pandas as pd\n",
    "import matplotlib.pyplot as plt\n",
    "from sklearn.metrics import confusion_matrix, ConfusionMatrixDisplay\n",
    "\n",
    "data = pd.read_csv(\"data.csv\")\n"
   ]
  },
  {
   "cell_type": "code",
   "execution_count": 295,
   "metadata": {},
   "outputs": [],
   "source": [
    "from sklearn.model_selection import train_test_split\n",
    "df = pd.DataFrame(data)\n",
    "\n",
    "X = df[[\"Land\", \"Card Advnatage\", \"Interaction\", \"Creature\", \"Ramp\"]]\n",
    "y = df[\"Keep\"]\n",
    "X = X.to_numpy()\n",
    "y = y.to_numpy().reshape(-1, 1)\n",
    "\n",
    "X_train, X_test, y_train, y_test = train_test_split(X, y, test_size=0.30, random_state = 25)\n"
   ]
  },
  {
   "cell_type": "markdown",
   "metadata": {},
   "source": [
    "Expert system \n"
   ]
  },
  {
   "cell_type": "code",
   "execution_count": 296,
   "metadata": {},
   "outputs": [],
   "source": [
    "def expert_system_prediction(hand, prediction):\n",
    "    land = hand[0]\n",
    "    creature = hand[1]\n",
    "    card_adv = hand[2]\n",
    "    interaction = hand[3]\n",
    "    ramp = hand[4]    \n",
    "\n",
    "    if land == 0:\n",
    "        return 0\n",
    "    elif land > 4:\n",
    "        return 0\n",
    "    \n",
    "    if land == 1:\n",
    "        if card_adv < 2:\n",
    "            return 0\n",
    "        elif ramp < 1:\n",
    "            return 0\n",
    "\n",
    "    if land + ramp > 5:\n",
    "        return 0\n",
    "    return prediction\n"
   ]
  },
  {
   "cell_type": "markdown",
   "metadata": {},
   "source": [
    "Artificial Neural Network Prediction"
   ]
  },
  {
   "cell_type": "code",
   "execution_count": 297,
   "metadata": {},
   "outputs": [],
   "source": [
    "def activation_function(x):\n",
    "    \"\"\"\n",
    "    output_activation_function applies the sigmoid activation function \n",
    "    \n",
    "    :param x: input data\n",
    "    \"\"\"\n",
    "    return 1 / (1 + np.exp(-x))\n",
    "\n",
    "def activation_derivative(x):\n",
    "    \"\"\"\n",
    "    output_activation_function applies the sigmoid activation function derivative \n",
    "    \n",
    "    :param x: input data\n",
    "    \"\"\"\n",
    "    return activation_function(x) * (1 - activation_function(x))\n",
    "\n",
    "def feedforward(X, w_input_to_hidden, b_input_to_hidden, w_hidden_to_output, b_hidden_to_output):\n",
    "    \"\"\"\n",
    "    feedforward returns the otputs of the activation function applied on the weight X feature + the bias\n",
    "    a = f(wp + b)\n",
    "\n",
    "    :X:                 input training data\n",
    "    :w_input_to_hidden: weights used between the input and hidden layer\n",
    "    :b_input_to_hidden: bias used between the input and hidden layer\n",
    "    :w_hidden_to_output: weights used between the hidden and output layer\n",
    "    :b_hidden_to_output: bias used between the hidden and output layer\n",
    "    \"\"\"\n",
    "    z_input = np.dot(X, w_input_to_hidden) + b_input_to_hidden\n",
    "\n",
    "    a_input = activation_function(z_input)\n",
    "\n",
    "    z_hidden = np.dot(a_input, w_hidden_to_output) + b_hidden_to_output\n",
    "    a_hidden = activation_function(z_hidden)\n",
    "    return a_input, a_hidden"
   ]
  },
  {
   "cell_type": "code",
   "execution_count": 298,
   "metadata": {},
   "outputs": [
    {
     "name": "stdout",
     "output_type": "stream",
     "text": [
      "0.5134165860998143\n",
      "0.4957649386149435\n",
      "0.4790305437967934\n",
      "0.4621410623218976\n",
      "0.45363580793146363\n",
      "0.4512083770351912\n",
      "0.45283853089503134\n",
      "0.4548657208314922\n",
      "0.4563978016664826\n",
      "0.45740923705525655\n",
      "0.45798560462613874\n",
      "0.4582182986359536\n",
      "0.45820177158901704\n",
      "0.4580346718431247\n",
      "0.45780292850682397\n",
      "0.4575515111846217\n",
      "0.457277316338055\n",
      "0.4569525247505789\n",
      "0.45655243776510956\n",
      "0.456068534703911\n",
      "0.45550842760793075\n",
      "0.4548902612706095\n",
      "0.4542364328331894\n",
      "0.4535688456479375\n",
      "0.45290632670609393\n",
      "0.4522638660205809\n",
      "0.4516529199893794\n",
      "0.4510820382636883\n",
      "0.4505573388539461\n",
      "0.4500828176833995\n",
      "0.4496610681561448\n",
      "0.44929528009546427\n",
      "0.4489926970559387\n",
      "0.44876797235666166\n",
      "0.4486435962736675\n",
      "0.44864584964687565\n",
      "0.44879798553191025\n",
      "0.449114006327057\n",
      "0.44959488420775534\n",
      "0.450226838599993\n",
      "0.4509808690889734\n",
      "0.45181390489166023\n",
      "0.4526729008636893\n",
      "0.45350258634364116\n",
      "0.4542548781960708\n",
      "0.4548944971174867\n",
      "0.4553994102578792\n",
      "0.4557649704881761\n",
      "0.45600965680825534\n",
      "0.45616730488082585\n",
      "0.45626947684663527\n",
      "0.4563339068533165\n",
      "0.4563641552783019\n",
      "0.4563555491909732\n",
      "0.4563016551331906\n",
      "0.4561984945140074\n",
      "0.4560461618077787\n",
      "0.45584853481161913\n",
      "0.4556118961777434\n",
      "0.45534311787791376\n",
      "0.45504789819142194\n",
      "0.45472943901858665\n",
      "0.4543878409352199\n",
      "0.4540202864518829\n",
      "0.45362177074987176\n",
      "0.4531858557018392\n",
      "0.4527048659446986\n",
      "0.4521692029448283\n",
      "0.4515659067303718\n",
      "0.45087702211604197\n",
      "0.4500785698003207\n",
      "0.449140941464828\n",
      "0.44803130900812255\n",
      "0.4467180663053934\n",
      "0.44517632362558884\n",
      "0.44339226201666676\n",
      "0.441363534125757\n",
      "0.43909413978042405\n",
      "0.4365858268672489\n",
      "0.43383189092181024\n",
      "0.4308191935913341\n",
      "0.42753949295957816\n",
      "0.4240060374045378\n",
      "0.42026909708274063\n",
      "0.41642275805469786\n",
      "0.4125921421645636\n",
      "0.40889156712469\n",
      "0.4053668404205936\n",
      "0.40197041348946233\n",
      "0.3986033472362402\n",
      "0.3951848777419128\n",
      "0.3916864294850634\n",
      "0.38811680229931345\n",
      "0.38448782878028026\n",
      "0.3807950304220931\n",
      "0.3770204263949841\n",
      "0.3731367622375701\n",
      "0.36910420556863327\n",
      "0.3648797587278603\n",
      "0.3604667126496759\n"
     ]
    }
   ],
   "source": [
    "hidden_Layer_neurons = 3\n",
    "output_neruons = 1\n",
    "\n",
    "# Initialize weights\n",
    "w_input_to_hidden = np.random.uniform(size=(X_train.shape[1], hidden_Layer_neurons))\n",
    "w_hidden_to_output = np.random.uniform(size=(hidden_Layer_neurons, output_neruons))\n",
    "\n",
    "b_input_to_hidden = np.zeros((1, hidden_Layer_neurons))\n",
    "b_hidden_to_output = np.zeros((1, output_neruons))\n",
    "\n",
    "learning_rate = .01\n",
    "epochs = 10000\n",
    "for x in range(epochs):\n",
    "    a_input, a_hidden = feedforward(X_train, w_input_to_hidden, b_input_to_hidden, w_hidden_to_output, b_hidden_to_output)\n",
    "\n",
    "    #=== Back Propagation ===#\n",
    "    error_output = y_train - a_hidden\n",
    "    delta_output = error_output * activation_derivative(a_hidden)\n",
    "\n",
    "    # delta weight = eta X \n",
    "    hidden_layer_delta = np.dot(delta_output, w_hidden_to_output.T) * activation_derivative(a_input)\n",
    "\n",
    "    w_hidden_to_output += np.dot(a_input.T, delta_output) * learning_rate\n",
    "    b_input_to_hidden += np.sum(delta_output) * learning_rate\n",
    "\n",
    "    w_input_to_hidden += np.dot(X_train.T, hidden_layer_delta) * learning_rate\n",
    "    b_hidden_to_output += np.sum(delta_output) * learning_rate\n",
    "\n",
    "    if x % 100 == 0:\n",
    "        print(np.mean(np.abs(error_output)))\n"
   ]
  },
  {
   "cell_type": "code",
   "execution_count": 330,
   "metadata": {},
   "outputs": [],
   "source": [
    "nn_y_hat = []\n",
    "for sample in range(len(X_test)):\n",
    "    a_input, a_hidden = feedforward(np.array(X_test[sample]), w_input_to_hidden, b_input_to_hidden, w_hidden_to_output, b_hidden_to_output)\n",
    "    \n",
    "    predict = \"\"\n",
    "    if a_hidden > 0.5:\n",
    "        predict = \"Keep\"\n",
    "        nn_y_hat.append(1)\n",
    "    else:\n",
    "        predict = \"Mulligan\"\n",
    "        nn_y_hat.append(0)\n",
    "\n",
    "    truth = \"Keep\" if y_test[sample] else \"Mulligan\"\n",
    "\n",
    "nn_y_hat = np.array(nn_y_hat)\n",
    "\n"
   ]
  },
  {
   "cell_type": "code",
   "execution_count": 328,
   "metadata": {},
   "outputs": [
    {
     "data": {
      "image/png": "[encoded data removed]",
      "text/plain": [
       "<Figure size 640x480 with 2 Axes>"
      ]
     },
     "metadata": {},
     "output_type": "display_data"
    }
   ],
   "source": [
    "cm = confusion_matrix(y_test, nn_y_hat)\n",
    "disp = ConfusionMatrixDisplay(confusion_matrix=cm)\n",
    "disp.plot()\n",
    "plt.show()"
   ]
  },
  {
   "cell_type": "code",
   "execution_count": 325,
   "metadata": {},
   "outputs": [
    {
     "name": "stdout",
     "output_type": "stream",
     "text": [
      "Accuracy: 79.17%\n"
     ]
    }
   ],
   "source": [
    "tp_tn = cm[0][0] + cm[1][1]\n",
    "total = tp_tn + cm[0][1] + cm[1][0]\n",
    "acc = f\"{tp_tn/total:.2%}\"\n",
    "print(\"Accuracy: \" + acc)"
   ]
  },
  {
   "cell_type": "markdown",
   "metadata": {},
   "source": [
    "Artificial Neural Network Prediction with Expert System\n"
   ]
  },
  {
   "cell_type": "code",
   "execution_count": 329,
   "metadata": {},
   "outputs": [
    {
     "data": {
      "image/png": "[encoded data removed]",
      "text/plain": [
       "<Figure size 640x480 with 2 Axes>"
      ]
     },
     "metadata": {},
     "output_type": "display_data"
    }
   ],
   "source": [
    "expert_y_hat = []\n",
    "for sample in range(len(X_test)):\n",
    "    expert_y_hat.append(expert_system_prediction(X_test[sample], nn_y_hat[sample]))\n",
    "cm = confusion_matrix(y_test, expert_y_hat)\n",
    "disp = ConfusionMatrixDisplay(confusion_matrix=cm)\n",
    "disp.plot()\n",
    "plt.show()\n"
   ]
  },
  {
   "cell_type": "code",
   "execution_count": 327,
   "metadata": {},
   "outputs": [
    {
     "name": "stdout",
     "output_type": "stream",
     "text": [
      "Accuracy: 83.33%\n"
     ]
    }
   ],
   "source": [
    "tp_tn = cm[0][0] + cm[1][1]\n",
    "total = tp_tn + cm[0][1] + cm[1][0]\n",
    "acc = f\"{tp_tn/total:.2%}\"\n",
    "print(\"Accuracy: \" + acc)"
   ]
  },
  {
   "cell_type": "markdown",
   "metadata": {},
   "source": [
    "Random Forest Prediction"
   ]
  },
  {
   "cell_type": "code",
   "execution_count": 302,
   "metadata": {},
   "outputs": [],
   "source": [
    "from sklearn.ensemble import RandomForestClassifier\n",
    "\n",
    "clf = RandomForestClassifier(max_depth=2, random_state=0)\n",
    "clf.fit(X_train, y_train.reshape(1, -1)[0])\n",
    "\n",
    "rf_y_hat = []\n",
    "for sample in range(len(X_test)):\n",
    "    prediction = clf.predict([X_test[sample]])\n",
    "\n",
    "    predict = \"\"\n",
    "    if prediction > 0.5:\n",
    "        predict = \"Keep\"\n",
    "        rf_y_hat.append(1)\n",
    "    else:\n",
    "        predict = \"Mulligan\"\n",
    "        rf_y_hat.append(0)\n",
    "    #print(\"Predicted: \" + predict)\n",
    "\n",
    "    truth = \"Keep\" if y_test[sample] else \"Mulligan\"\n",
    "    #print(\"Actual: \" + truth)\n",
    "    #print()"
   ]
  },
  {
   "cell_type": "code",
   "execution_count": 310,
   "metadata": {},
   "outputs": [
    {
     "data": {
      "image/png": "[encoded data removed]",
      "text/plain": [
       "<Figure size 640x480 with 2 Axes>"
      ]
     },
     "metadata": {},
     "output_type": "display_data"
    }
   ],
   "source": [
    "cm = confusion_matrix(y_test, rf_y_hat, labels=clf.classes_)\n",
    "disp = ConfusionMatrixDisplay(confusion_matrix=cm,\n",
    "                              display_labels=clf.classes_)\n",
    "disp.plot()\n",
    "plt.show()"
   ]
  },
  {
   "cell_type": "code",
   "execution_count": 320,
   "metadata": {},
   "outputs": [
    {
     "name": "stdout",
     "output_type": "stream",
     "text": [
      "Accuracy: 81.25%\n"
     ]
    }
   ],
   "source": [
    "tp_tn = cm[0][0] + cm[1][1]\n",
    "total = tp_tn + cm[0][1] + cm[1][0]\n",
    "acc = f\"{tp_tn/total:.2%}\"\n",
    "print(\"Accuracy: \" + acc)"
   ]
  },
  {
   "cell_type": "code",
   "execution_count": 304,
   "metadata": {},
   "outputs": [
    {
     "data": {
      "image/png": "[encoded data removed]",
      "text/plain": [
       "<Figure size 640x480 with 1 Axes>"
      ]
     },
     "metadata": {},
     "output_type": "display_data"
    }
   ],
   "source": [
    "importances = clf.feature_importances_\n",
    "std = np.std([tree.feature_importances_ for tree in clf.estimators_], axis=0)\n",
    "\n",
    "forest_importances = pd.Series(importances)\n",
    "\n",
    "fig, ax = plt.subplots()\n",
    "forest_importances.plot.bar(yerr=std, ax=ax)\n",
    "ax.set_title(\"Feature importances using MDI\")\n",
    "ax.set_ylabel(\"Mean decrease in impurity\")\n",
    "fig.tight_layout()"
   ]
  },
  {
   "cell_type": "markdown",
   "metadata": {},
   "source": [
    "Logistic Regression Prediction"
   ]
  },
  {
   "cell_type": "code",
   "execution_count": 305,
   "metadata": {},
   "outputs": [],
   "source": [
    "from sklearn.linear_model import LogisticRegression\n",
    "\n",
    "clf = LogisticRegression(random_state=0).fit(X_train, y_train.reshape(1, -1)[0])\n",
    "\n",
    "lr_y_hat = []\n",
    "for sample in range(len(X_test)):\n",
    "    prediction_prob = clf.predict_proba([X_test[sample]])[0]\n",
    "    prediction = max(range(len(prediction_prob)), key=prediction_prob.__getitem__)    \n",
    "    if prediction > 0.5:\n",
    "        predict = \"Keep\"\n",
    "        lr_y_hat.append(1)\n",
    "    else:\n",
    "        predict = \"Mulligan\"\n",
    "        lr_y_hat.append(0)\n",
    "    #print(\"Predicted: \" + predict)\n",
    "\n",
    "    truth = \"Keep\" if y_test[sample] else \"Mulligan\"\n",
    "    #print(\"Actual: \" + truth)\n",
    "    #print()"
   ]
  },
  {
   "cell_type": "code",
   "execution_count": 322,
   "metadata": {},
   "outputs": [
    {
     "data": {
      "image/png": "[encoded data removed]",
      "text/plain": [
       "<Figure size 640x480 with 2 Axes>"
      ]
     },
     "metadata": {},
     "output_type": "display_data"
    }
   ],
   "source": [
    "\n",
    "cm = confusion_matrix(y_test, lr_y_hat, labels=clf.classes_)\n",
    "disp = ConfusionMatrixDisplay(confusion_matrix=cm,\n",
    "                              display_labels=clf.classes_)\n",
    "disp.plot()\n",
    "plt.show()"
   ]
  },
  {
   "cell_type": "code",
   "execution_count": 323,
   "metadata": {},
   "outputs": [
    {
     "name": "stdout",
     "output_type": "stream",
     "text": [
      "Accuracy: 72.92%\n"
     ]
    }
   ],
   "source": [
    "tp_tn = cm[0][0] + cm[1][1]\n",
    "total = tp_tn + cm[0][1] + cm[1][0]\n",
    "acc = f\"{tp_tn/total:.2%}\"\n",
    "print(\"Accuracy: \" + acc)"
   ]
  }
 ],
 "metadata": {
  "kernelspec": {
   "display_name": "Python 3",
   "language": "python",
   "name": "python3"
  },
  "language_info": {
   "codemirror_mode": {
    "name": "ipython",
    "version": 3
   },
   "file_extension": ".py",
   "mimetype": "text/x-python",
   "name": "python",
   "nbconvert_exporter": "python",
   "pygments_lexer": "ipython3",
   "version": "3.11.7"
  }
 },
 "nbformat": 4,
 "nbformat_minor": 2
}
